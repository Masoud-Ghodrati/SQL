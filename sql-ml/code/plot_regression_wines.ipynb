{
 "cells": [
  {
   "cell_type": "code",
   "execution_count": 1,
   "metadata": {
    "collapsed": true
   },
   "outputs": [],
   "source": [
    "%matplotlib inline"
   ]
  },
  {
   "cell_type": "markdown",
   "metadata": {},
   "source": [
    "\n",
    "Use a regression to predict wine quality\n",
    "========================================\n",
    "\n",
    "I will use [wine quality data set](https://archive.ics.uci.edu/ml/machine-learning-databases/wine-quality/winequality-red.csv)\n",
    "from the [UCI Machine Learning Repository](https://archive.ics.uci.edu/ml/datasets.html).  \n",
    "The dataset contains quality ratings (labels) for a 1599 red wine samples. \n",
    "The features are the wines' physical and chemical properties (11 predictors). \n",
    "We want to use these properties to predict the quality of the wine. \n",
    "The experiment is shown below and can be found in the \n",
    "[Cortana Intelligence Gallery](https://gallery.cortanaintelligence.com/Experiment/Predict-Wine-Quality-Classification-10)\n",
    "\n",
    "*Sources:* \n",
    "\n",
    "- [Predicting Wine Quality with Azure ML and R](http://blog.revolutionanalytics.com/2016/04/predicting-wine-quality.html)\n",
    "- [Predicting Wine Quality](\n",
    "https://github.com/shaheeng/ClassificationModelEvaluation/blob/master/PredictWineQuality_RevBlog3/Predicting%20Wine%20Quality%20-%20Shaheen.ipynb)\n",
    "  (notebook)\n",
    "  \n",
    "\n",
    "\n",
    "Processing the data\n",
    "-------------------\n",
    "\n",
    "Let's start with collecting and preparing the data. I've created a database called `WineQuality` within my SQL Server instance on a Linux VM. So I'll import osme packages, and then connect to SQL Server.  \n",
    "\n",
    "Once we're connected, I can set the compute context to my SQL Server instance, so that no data is moved and all analysis is done within SQL Server.\n"
   ]
  },
  {
   "cell_type": "code",
   "execution_count": 2,
   "metadata": {},
   "outputs": [
    {
     "data": {
      "text/plain": [
       "<revoscalepy.computecontext.RxInSqlServer.RxInSqlServer at 0x2c32db68d30>"
      ]
     },
     "execution_count": 2,
     "metadata": {},
     "output_type": "execute_result"
    }
   ],
   "source": [
    "from revoscalepy import RxInSqlServer, rx_get_compute_context, rx_set_compute_context #RxLocalSeq, \n",
    "import matplotlib.pyplot as plt\n",
    "import pandas\n",
    "import os\n",
    "import sys\n",
    "\n",
    "connection_string = 'Driver=ODBC Driver 17 for SQL Server;Server=rhelvm;Database={WineQuality};UID=sa;PWD=O365microsoft!;'\n",
    "#localcc = RxLocalSeq()\n",
    "sql_server_cc = RxInSqlServer(connection_string = connection_string)\n",
    "sql_cc = rx_set_compute_context(sql_server_cc)\n",
    "rx_get_compute_context()"
   ]
  },
  {
   "cell_type": "code",
   "execution_count": 3,
   "metadata": {
    "collapsed": true
   },
   "outputs": [],
   "source": [
    "#rx_set_compute_context(localcc)\n",
    "from revoscalepy import RxLocalSeq, RxInSqlServer, rx_get_compute_context, rx_set_compute_context\n",
    "from revoscalepy import rx_exec, rx_data_step\n",
    "import matplotlib.pyplot as plt\n",
    "import pandas as pd\n",
    "import os\n",
    "import sys"
   ]
  },
  {
   "cell_type": "markdown",
   "metadata": {},
   "source": [
    "## Data Exploration and Understanding\n",
    "\n",
    "You always start by looking at the data. Not just the statistics, but also visually. This isn't a data science 101 course, so I won't get into it, but I highly recommend looking into data exploration and visualization if you aren't familiar. \n",
    "\n",
    "In these first few cells, we're just looking at what the columns are, and what some typical values are for red vs. white wine."
   ]
  },
  {
   "cell_type": "code",
   "execution_count": 4,
   "metadata": {},
   "outputs": [
    {
     "data": {
      "text/html": [
       "<div>\n",
       "<table border=\"1\" class=\"dataframe\">\n",
       "  <thead>\n",
       "    <tr style=\"text-align: right;\">\n",
       "      <th></th>\n",
       "      <th>facidity</th>\n",
       "      <th>vacidity</th>\n",
       "      <th>citric</th>\n",
       "      <th>sugar</th>\n",
       "      <th>chlorides</th>\n",
       "      <th>fsulfur</th>\n",
       "      <th>tsulfur</th>\n",
       "      <th>density</th>\n",
       "      <th>pH</th>\n",
       "      <th>sulphates</th>\n",
       "      <th>alcohol</th>\n",
       "      <th>quality</th>\n",
       "      <th>color</th>\n",
       "    </tr>\n",
       "  </thead>\n",
       "  <tbody>\n",
       "    <tr>\n",
       "      <th>0</th>\n",
       "      <td>7.4</td>\n",
       "      <td>0.7</td>\n",
       "      <td>0.0</td>\n",
       "      <td>1.9</td>\n",
       "      <td>0.076</td>\n",
       "      <td>11.0</td>\n",
       "      <td>34.0</td>\n",
       "      <td>0.9978</td>\n",
       "      <td>3.51</td>\n",
       "      <td>0.56</td>\n",
       "      <td>9.4</td>\n",
       "      <td>5</td>\n",
       "      <td>red</td>\n",
       "    </tr>\n",
       "    <tr>\n",
       "      <th>1</th>\n",
       "      <td>7.8</td>\n",
       "      <td>0.88</td>\n",
       "      <td>0.0</td>\n",
       "      <td>2.6</td>\n",
       "      <td>0.098</td>\n",
       "      <td>25.0</td>\n",
       "      <td>67.0</td>\n",
       "      <td>0.9968</td>\n",
       "      <td>3.2</td>\n",
       "      <td>0.68</td>\n",
       "      <td>9.8</td>\n",
       "      <td>5</td>\n",
       "      <td>red</td>\n",
       "    </tr>\n",
       "    <tr>\n",
       "      <th>2</th>\n",
       "      <td>7.8</td>\n",
       "      <td>0.76</td>\n",
       "      <td>0.04</td>\n",
       "      <td>2.3</td>\n",
       "      <td>0.092</td>\n",
       "      <td>15.0</td>\n",
       "      <td>54.0</td>\n",
       "      <td>0.997</td>\n",
       "      <td>3.26</td>\n",
       "      <td>0.65</td>\n",
       "      <td>9.8</td>\n",
       "      <td>5</td>\n",
       "      <td>red</td>\n",
       "    </tr>\n",
       "    <tr>\n",
       "      <th>3</th>\n",
       "      <td>11.2</td>\n",
       "      <td>0.28</td>\n",
       "      <td>0.56</td>\n",
       "      <td>1.9</td>\n",
       "      <td>0.075</td>\n",
       "      <td>17.0</td>\n",
       "      <td>60.0</td>\n",
       "      <td>0.998</td>\n",
       "      <td>3.16</td>\n",
       "      <td>0.58</td>\n",
       "      <td>9.8</td>\n",
       "      <td>6</td>\n",
       "      <td>red</td>\n",
       "    </tr>\n",
       "    <tr>\n",
       "      <th>4</th>\n",
       "      <td>7.4</td>\n",
       "      <td>0.7</td>\n",
       "      <td>0.0</td>\n",
       "      <td>1.9</td>\n",
       "      <td>0.076</td>\n",
       "      <td>11.0</td>\n",
       "      <td>34.0</td>\n",
       "      <td>0.9978</td>\n",
       "      <td>3.51</td>\n",
       "      <td>0.56</td>\n",
       "      <td>9.4</td>\n",
       "      <td>5</td>\n",
       "      <td>red</td>\n",
       "    </tr>\n",
       "  </tbody>\n",
       "</table>\n",
       "</div>"
      ],
      "text/plain": [
       "  facidity vacidity citric sugar chlorides fsulfur tsulfur density    pH  \\\n",
       "0      7.4      0.7    0.0   1.9     0.076    11.0    34.0  0.9978  3.51   \n",
       "1      7.8     0.88    0.0   2.6     0.098    25.0    67.0  0.9968   3.2   \n",
       "2      7.8     0.76   0.04   2.3     0.092    15.0    54.0   0.997  3.26   \n",
       "3     11.2     0.28   0.56   1.9     0.075    17.0    60.0   0.998  3.16   \n",
       "4      7.4      0.7    0.0   1.9     0.076    11.0    34.0  0.9978  3.51   \n",
       "\n",
       "  sulphates alcohol quality color  \n",
       "0      0.56     9.4       5   red  \n",
       "1      0.68     9.8       5   red  \n",
       "2      0.65     9.8       5   red  \n",
       "3      0.58     9.8       6   red  \n",
       "4      0.56     9.4       5   red  "
      ]
     },
     "execution_count": 4,
     "metadata": {},
     "output_type": "execute_result"
    }
   ],
   "source": [
    "from revoscalepy import RxSqlServerData\n",
    "\n",
    "query = \"\"\"SELECT TOP(1000) * FROM [WineQuality].[dbo].[wine_data] WHERE color = 'red'\"\"\"\n",
    "ds = RxSqlServerData(sql_query = query, connection_string = connection_string)\n",
    "red = rx_data_step(input_data = ds)\n",
    "red.head()"
   ]
  },
  {
   "cell_type": "code",
   "execution_count": 5,
   "metadata": {
    "scrolled": false
   },
   "outputs": [
    {
     "data": {
      "text/html": [
       "<div>\n",
       "<table border=\"1\" class=\"dataframe\">\n",
       "  <thead>\n",
       "    <tr style=\"text-align: right;\">\n",
       "      <th></th>\n",
       "      <th>facidity</th>\n",
       "      <th>vacidity</th>\n",
       "      <th>citric</th>\n",
       "      <th>sugar</th>\n",
       "      <th>chlorides</th>\n",
       "      <th>fsulfur</th>\n",
       "      <th>tsulfur</th>\n",
       "      <th>density</th>\n",
       "      <th>pH</th>\n",
       "      <th>sulphates</th>\n",
       "      <th>alcohol</th>\n",
       "      <th>quality</th>\n",
       "      <th>color</th>\n",
       "    </tr>\n",
       "  </thead>\n",
       "  <tbody>\n",
       "    <tr>\n",
       "      <th>0</th>\n",
       "      <td>7.0</td>\n",
       "      <td>0.27</td>\n",
       "      <td>0.36</td>\n",
       "      <td>20.7</td>\n",
       "      <td>0.045</td>\n",
       "      <td>45.0</td>\n",
       "      <td>170.0</td>\n",
       "      <td>1.001</td>\n",
       "      <td>3.0</td>\n",
       "      <td>0.45</td>\n",
       "      <td>8.8</td>\n",
       "      <td>6</td>\n",
       "      <td>white</td>\n",
       "    </tr>\n",
       "    <tr>\n",
       "      <th>1</th>\n",
       "      <td>6.3</td>\n",
       "      <td>0.3</td>\n",
       "      <td>0.34</td>\n",
       "      <td>1.6</td>\n",
       "      <td>0.049</td>\n",
       "      <td>14.0</td>\n",
       "      <td>132.0</td>\n",
       "      <td>0.9940000000000001</td>\n",
       "      <td>3.3</td>\n",
       "      <td>0.49</td>\n",
       "      <td>9.5</td>\n",
       "      <td>6</td>\n",
       "      <td>white</td>\n",
       "    </tr>\n",
       "    <tr>\n",
       "      <th>2</th>\n",
       "      <td>8.1</td>\n",
       "      <td>0.28</td>\n",
       "      <td>0.4</td>\n",
       "      <td>6.9</td>\n",
       "      <td>0.05</td>\n",
       "      <td>30.0</td>\n",
       "      <td>97.0</td>\n",
       "      <td>0.9951</td>\n",
       "      <td>3.26</td>\n",
       "      <td>0.44</td>\n",
       "      <td>10.1</td>\n",
       "      <td>6</td>\n",
       "      <td>white</td>\n",
       "    </tr>\n",
       "    <tr>\n",
       "      <th>3</th>\n",
       "      <td>7.2</td>\n",
       "      <td>0.23</td>\n",
       "      <td>0.32</td>\n",
       "      <td>8.5</td>\n",
       "      <td>0.057999999999999996</td>\n",
       "      <td>47.0</td>\n",
       "      <td>186.0</td>\n",
       "      <td>0.9956</td>\n",
       "      <td>3.19</td>\n",
       "      <td>0.4</td>\n",
       "      <td>9.9</td>\n",
       "      <td>6</td>\n",
       "      <td>white</td>\n",
       "    </tr>\n",
       "    <tr>\n",
       "      <th>4</th>\n",
       "      <td>7.2</td>\n",
       "      <td>0.23</td>\n",
       "      <td>0.32</td>\n",
       "      <td>8.5</td>\n",
       "      <td>0.057999999999999996</td>\n",
       "      <td>47.0</td>\n",
       "      <td>186.0</td>\n",
       "      <td>0.9956</td>\n",
       "      <td>3.19</td>\n",
       "      <td>0.4</td>\n",
       "      <td>9.9</td>\n",
       "      <td>6</td>\n",
       "      <td>white</td>\n",
       "    </tr>\n",
       "  </tbody>\n",
       "</table>\n",
       "</div>"
      ],
      "text/plain": [
       "  facidity vacidity citric sugar             chlorides fsulfur tsulfur  \\\n",
       "0      7.0     0.27   0.36  20.7                 0.045    45.0   170.0   \n",
       "1      6.3      0.3   0.34   1.6                 0.049    14.0   132.0   \n",
       "2      8.1     0.28    0.4   6.9                  0.05    30.0    97.0   \n",
       "3      7.2     0.23   0.32   8.5  0.057999999999999996    47.0   186.0   \n",
       "4      7.2     0.23   0.32   8.5  0.057999999999999996    47.0   186.0   \n",
       "\n",
       "              density    pH sulphates alcohol quality  color  \n",
       "0               1.001   3.0      0.45     8.8       6  white  \n",
       "1  0.9940000000000001   3.3      0.49     9.5       6  white  \n",
       "2              0.9951  3.26      0.44    10.1       6  white  \n",
       "3              0.9956  3.19       0.4     9.9       6  white  \n",
       "4              0.9956  3.19       0.4     9.9       6  white  "
      ]
     },
     "execution_count": 5,
     "metadata": {},
     "output_type": "execute_result"
    }
   ],
   "source": [
    "query = \"\"\"SELECT TOP(1000) *\n",
    "  FROM [WineQuality].[dbo].[wine_data] WHERE color = 'white'\"\"\"\n",
    "ds = RxSqlServerData(sql_query = query, connection_string = connection_string)\n",
    "white = rx_data_step(input_data = ds)\n",
    "white.head()"
   ]
  },
  {
   "cell_type": "markdown",
   "metadata": {},
   "source": [
    "\n",
    "The goal is to predict the quality of the wines. Let's see how this variable is distributed."
   ]
  },
  {
   "cell_type": "code",
   "execution_count": 6,
   "metadata": {},
   "outputs": [
    {
     "name": "stdout",
     "output_type": "stream",
     "text": [
      "Histogram of White Wine Quality:\n"
     ]
    },
    {
     "data": {
      "image/png": "[encoded data removed]",
      "text/plain": [
       "<matplotlib.figure.Figure at 0x2c32eca1ef0>"
      ]
     },
     "metadata": {},
     "output_type": "display_data"
    }
   ],
   "source": [
    "query = \"\"\"SELECT quality\n",
    "  FROM [WineQuality].[dbo].[wine_data] WHERE color = 'white'\"\"\"\n",
    "ds_white = RxSqlServerData(sql_query = query, connection_string = connection_string)\n",
    "\n",
    "query = \"\"\"SELECT quality\n",
    "  FROM [WineQuality].[dbo].[wine_data] WHERE color = 'red'\"\"\"\n",
    "ds_red = RxSqlServerData(sql_query = query, connection_string = connection_string)\n",
    "\n",
    "# create histogram\n",
    "def create_hist(ds):\n",
    "    import matplotlib.pyplot as plt\n",
    "    wines = rx_data_step(input_data = ds)\n",
    "    qual = pd.to_numeric(wines[\"quality\"])\n",
    "    fig, ax = plt.subplots(1, 1)\n",
    "    qual.hist(bins=7, ax=ax)\n",
    "    ax.set_xlabel(\"quality\")\n",
    "    ax.set_ylabel(\"# wines\")\n",
    "    return\n",
    "\n",
    "hist_white = rx_exec(function=create_hist, args={'ds':ds_white}, compute_context = sql_cc)\n",
    "print(\"Histogram of White Wine Quality:\")"
   ]
  },
  {
   "cell_type": "code",
   "execution_count": 7,
   "metadata": {},
   "outputs": [
    {
     "name": "stdout",
     "output_type": "stream",
     "text": [
      "Histogram of Red Wine Quality:\n"
     ]
    },
    {
     "data": {
      "image/png": "[encoded data removed]",
      "text/plain": [
       "<matplotlib.figure.Figure at 0x2c32ddb8550>"
      ]
     },
     "metadata": {},
     "output_type": "display_data"
    }
   ],
   "source": [
    "hist_red = rx_exec(function=create_hist, args={'ds':ds_red}, compute_context = sql_cc)\n",
    "print(\"Histogram of Red Wine Quality:\")"
   ]
  },
  {
   "cell_type": "markdown",
   "metadata": {},
   "source": [
    "Is there any differance between red and white wines?\n",
    "\n"
   ]
  },
  {
   "cell_type": "code",
   "execution_count": 8,
   "metadata": {
    "scrolled": true
   },
   "outputs": [
    {
     "name": "stdout",
     "output_type": "stream",
     "text": [
      "Histogram of Red and White Wine Qualities:\n"
     ]
    },
    {
     "data": {
      "image/png": "[encoded data removed]",
      "text/plain": [
       "<matplotlib.figure.Figure at 0x2c32bedbda0>"
      ]
     },
     "metadata": {},
     "output_type": "display_data"
    }
   ],
   "source": [
    "def compare_wines(red,white):\n",
    "    red = rx_data_step(input_data = red)\n",
    "    red = pd.to_numeric(red[\"quality\"])\n",
    "    white = rx_data_step(input_data = white)\n",
    "    white = pd.to_numeric(white[\"quality\"])\n",
    "    fig, ax = plt.subplots(1, 1)\n",
    "    ax.hist([red, white], label=[\"red\", \"white\"], alpha=0.5,\n",
    "            histtype='bar', bins=7, color=[\"red\", \"green\"])\n",
    "    ax.legend()\n",
    "    ax.set_xlabel(\"quality\")\n",
    "    ax.set_ylabel(\"# wines\")\n",
    "    return\n",
    "\n",
    "hist = rx_exec(function=compare_wines, \n",
    "               args={'red':ds_red, 'white':ds_white}, \n",
    "               compute_context = sql_cc)\n",
    "print(\"Histogram of Red and White Wine Qualities:\")"
   ]
  },
  {
   "cell_type": "markdown",
   "metadata": {},
   "source": [
    "There are more white wines and more high quality white wines.\n",
    "Let's see if the quality is correlated to the alcohol degree?\n",
    "\n"
   ]
  },
  {
   "cell_type": "code",
   "execution_count": 9,
   "metadata": {
    "scrolled": true
   },
   "outputs": [
    {
     "data": {
      "image/png": "[encoded data removed]",
      "text/plain": [
       "<matplotlib.figure.Figure at 0x2c3302980f0>"
      ]
     },
     "metadata": {},
     "output_type": "display_data"
    }
   ],
   "source": [
    "query = \"\"\"SELECT alcohol, quality\n",
    "  FROM [WineQuality].[dbo].[wine_data]\"\"\"\n",
    "ds = RxSqlServerData(sql_query = query, connection_string = connection_string)\n",
    "\n",
    "\n",
    "def create_scatter(ds):\n",
    "    wines = rx_data_step(input_data=ds)\n",
    "    fig, ax = plt.subplots(1, 1)\n",
    "    ax.scatter(x=pd.to_numeric(wines[\"alcohol\"]), \n",
    "               y=pd.to_numeric(wines[\"quality\"]))\n",
    "    ax.set_xlabel(\"alcohol\")\n",
    "    ax.set_ylabel(\"quality\")\n",
    "    return \n",
    "\n",
    "scatter = rx_exec(function=create_scatter, \n",
    "               args={'ds':ds}, \n",
    "               compute_context = sql_cc)"
   ]
  },
  {
   "cell_type": "markdown",
   "metadata": {},
   "source": [
    "Quite difficult to see don't you think?\n",
    "\n"
   ]
  },
  {
   "cell_type": "code",
   "execution_count": 10,
   "metadata": {},
   "outputs": [
    {
     "data": {
      "image/png": "[encoded data removed]",
      "text/plain": [
       "<matplotlib.figure.Figure at 0x2c32f2004e0>"
      ]
     },
     "metadata": {},
     "output_type": "display_data"
    }
   ],
   "source": [
    "def create_scatter(ds):\n",
    "    wines = rx_data_step(input_data=ds)\n",
    "    fig, ax = plt.subplots(1, 1)\n",
    "    ax.hexbin(x=pd.to_numeric(wines[\"alcohol\"]), \n",
    "               y=pd.to_numeric(wines[\"quality\"]), gridsize=25)\n",
    "    ax.set_xlabel(\"alcohol\")\n",
    "    ax.set_ylabel(\"quality\")\n",
    "    return \n",
    "\n",
    "scatter = rx_exec(function=create_scatter, \n",
    "               args={'ds':ds}, \n",
    "               compute_context = sql_cc)"
   ]
  },
  {
   "cell_type": "markdown",
   "metadata": {},
   "source": [
    "The alcohol does not explain the quality all by itself.\n",
    "\n",
    "Predict the quality of the wine\n",
    "-------------------------------\n",
    "\n",
    "The quality is a mark between 1 and 9.\n",
    "We use a fast tree regression to predict it.\n",
    "But before anything starts, we need to split the dataset\n",
    "into train and test.\n",
    "\n"
   ]
  },
  {
   "cell_type": "code",
   "execution_count": 11,
   "metadata": {
    "collapsed": true
   },
   "outputs": [],
   "source": [
    "query = \"\"\"SELECT *\n",
    "  FROM [WineQuality].[dbo].[wine_data]\"\"\"\n",
    "ds = RxSqlServerData(sql_query = query, connection_string = connection_string)\n",
    "\n",
    "\n",
    "def split_data(ds):\n",
    "    try:\n",
    "        from sklearn.model_selection import train_test_split\n",
    "    except ImportError:\n",
    "        from sklearn.cross_validation import train_test_split\n",
    "    wines = rx_data_step(input_data=ds)\n",
    "    wines_train, wines_test = train_test_split(wines, train_size=.75)\n",
    "    return wines_train, wines_test\n",
    "\n",
    "split_wines = rx_exec(function=split_data, \n",
    "               args={'ds':ds}, \n",
    "               compute_context = sql_cc)\n",
    "train_data = split_wines[0][0]\n",
    "test_data = split_wines[0][1]"
   ]
  },
  {
   "cell_type": "markdown",
   "metadata": {},
   "source": [
    "And we train. We drop the color which is a non numerical\n",
    "features. We will add it later.\n",
    "\n"
   ]
  },
  {
   "cell_type": "code",
   "execution_count": 12,
   "metadata": {},
   "outputs": [
    {
     "name": "stdout",
     "output_type": "stream",
     "text": [
      "'unbalanced_sets' ignored for method 'regression'\n",
      "Warning: numpy.int64 data type is not supported. Data is converted to float64.\n",
      "Not adding a normalizer.\n",
      "Making per-feature arrays\n",
      "Changing data from row-wise to column-wise\n",
      "Beginning processing data.\n",
      "Rows Read: 4872, Read Time: 0, Transform Time: 0\n",
      "Beginning processing data.\n",
      "Processed 4872 instances\n",
      "Binning and forming Feature objects\n",
      "Reserved memory for tree learner: 277992 bytes\n",
      "Starting to train ...\n",
      "Not training a calibrator because it is not needed.\n",
      "Elapsed time: 00:00:03.8061273\n",
      "Elapsed time: 00:00:00.3404422\n"
     ]
    }
   ],
   "source": [
    "from microsoftml import rx_logistic_regression, rx_fast_trees\n",
    "cols = train_data.columns.drop([\"quality\", \"color\"])\n",
    "ds = train_data.drop('color',axis=1).apply(pd.to_numeric)\n",
    "model = rx_fast_trees(\"quality ~\" + \"+\".join(cols), data=ds, method=\"regression\", compute_context = sql_cc)\n"
   ]
  },
  {
   "cell_type": "markdown",
   "metadata": {},
   "source": [
    "Next, let's make some predictions with our tests data to see how our model does.\n",
    "\n"
   ]
  },
  {
   "cell_type": "code",
   "execution_count": 13,
   "metadata": {},
   "outputs": [
    {
     "name": "stdout",
     "output_type": "stream",
     "text": [
      "Warning: numpy.int64 data type is not supported. Data is converted to float64.\n",
      "   quality  Score\n",
      "0      6.0    6.0\n",
      "1      6.0    5.2\n",
      "2      6.0    5.7\n",
      "3      7.0    6.3\n",
      "4      6.0    6.1\n"
     ]
    }
   ],
   "source": [
    "from microsoftml import rx_predict\n",
    "ds = test_data.drop('color',axis=1).apply(pd.to_numeric)\n",
    "pred = round(rx_predict(model = model, data = ds, extra_vars_to_write=[\"quality\"]),1)\n",
    "print(pred.head())"
   ]
  },
  {
   "cell_type": "markdown",
   "metadata": {},
   "source": [
    "The column 'Score' is the prediction.\n",
    "We estimate its quality with the metric `(R2)[http://scikit-learn.org/stable/modules/generated/sklearn.metrics.r2_score.html]`\n",
    "and we plot them.\n",
    "\n"
   ]
  },
  {
   "cell_type": "code",
   "execution_count": 14,
   "metadata": {},
   "outputs": [
    {
     "name": "stdout",
     "output_type": "stream",
     "text": [
      "R2= 0.475038001878\n"
     ]
    },
    {
     "data": {
      "text/plain": [
       "<matplotlib.text.Text at 0x2c3312a2cc0>"
      ]
     },
     "execution_count": 14,
     "metadata": {},
     "output_type": "execute_result"
    },
    {
     "data": {
      "image/png": "[encoded data removed]",
      "text/plain": [
       "<matplotlib.figure.Figure at 0x2c33128d630>"
      ]
     },
     "metadata": {},
     "output_type": "display_data"
    }
   ],
   "source": [
    "from sklearn.metrics import r2_score\n",
    "r2 = r2_score(pred.quality, pred.Score)\n",
    "print(\"R2=\", r2)\n",
    "\n",
    "fig, ax = plt.subplots(1, 1)\n",
    "ax.scatter(x=pred.quality, y=pred.Score)\n",
    "ax.set_xlabel(\"quality\")\n",
    "ax.set_ylabel(\"prediction\")"
   ]
  },
  {
   "cell_type": "markdown",
   "metadata": {},
   "source": [
    "Still not easy to read.\n",
    "\n"
   ]
  },
  {
   "cell_type": "code",
   "execution_count": 15,
   "metadata": {},
   "outputs": [
    {
     "data": {
      "text/plain": [
       "<matplotlib.axes._subplots.AxesSubplot at 0x2c3312abcf8>"
      ]
     },
     "execution_count": 15,
     "metadata": {},
     "output_type": "execute_result"
    },
    {
     "data": {
      "image/png": "[encoded data removed]",
      "text/plain": [
       "<matplotlib.figure.Figure at 0x2c32f1e4748>"
      ]
     },
     "metadata": {},
     "output_type": "display_data"
    }
   ],
   "source": [
    "fig, ax = plt.subplots(1, 1)\n",
    "pred.plot.hexbin(x='quality', y='Score', ax=ax, gridsize=25)"
   ]
  },
  {
   "cell_type": "markdown",
   "metadata": {},
   "source": [
    "It seems to be doing a relatively good job to predict\n",
    "marks 5, 6, 7. As we saw with the distribution, \n",
    "the dataset contain many examples for these marks\n",
    "and not many for the others.\n",
    "\n",
    "\n",
    "Feature Importance\n",
    "------------------\n",
    "\n",
    "Let's see which variables contribute the most to the prediction.\n",
    "\n"
   ]
  },
  {
   "cell_type": "code",
   "execution_count": 16,
   "metadata": {
    "scrolled": true
   },
   "outputs": [
    {
     "data": {
      "text/plain": [
       "<matplotlib.text.Text at 0x2c3302de7b8>"
      ]
     },
     "execution_count": 16,
     "metadata": {},
     "output_type": "execute_result"
    },
    {
     "data": {
      "image/png": "[encoded data removed]",
      "text/plain": [
       "<matplotlib.figure.Figure at 0x2c331487b70>"
      ]
     },
     "metadata": {},
     "output_type": "display_data"
    }
   ],
   "source": [
    "feature_importance = [(k, v) for k, v in model.summary_[\"keyValuePairs\"].items()]\n",
    "\n",
    "import numpy\n",
    "fig, ax = plt.subplots(1, 1)\n",
    "ind = numpy.arange(len(feature_importance))\n",
    "ax.barh(ind, [f[1] for f in feature_importance], 0.35)\n",
    "ax.set_yticks(ind + 0.35 / 2)\n",
    "ax.set_yticklabels([f[0] for f in feature_importance])\n",
    "ax.set_title(\"Feature importances\")"
   ]
  },
  {
   "cell_type": "markdown",
   "metadata": {},
   "source": [
    "Alcohol is the dominant feature but the others still play\n",
    "an important part in the prediction."
   ]
  },
  {
   "cell_type": "markdown",
   "metadata": {},
   "source": [
    "Can we find a better model?\n",
    "--------------------\n",
    "\n",
    "As is standard for creating and deploying machine learning models, it's important to try several algorithms before you deploy one, to make sure you're using a model that produces the most accurate results. Here are some other built-in packages that we could try:\n",
    "\n",
    "- rx_btrees\n",
    "- rx_fast_trees\n",
    "- rx_dforest\n",
    "\n",
    "\n",
    "For the purpose of this exercise, we'll just assume this is the best model after our experimentation."
   ]
  },
  {
   "cell_type": "markdown",
   "metadata": {},
   "source": [
    "## Creating the Stored Procedure for Model Deployment\n",
    "\n",
    "Once we have a model we're satisfied with, we may want to deploy it into production in SQL Server. In order to do this, we'll need to create a Stored Procedure. \n",
    "\n",
    "Fortunately for all the non-SQL developers, there is an open-source package available `sqlmlutils` that can help transform your Python code into a format accepted by SQL Server, specifically a Stored Procedure in this use case.\n",
    "\n",
    "You can follow the instructions to install and use `sqlmlutils` in your own projects [here](https://github.com/Microsoft/sqlmlutils/tree/master/Python)."
   ]
  },
  {
   "cell_type": "code",
   "execution_count": 17,
   "metadata": {},
   "outputs": [
    {
     "data": {
      "text/plain": [
       "True"
      ]
     },
     "execution_count": 17,
     "metadata": {},
     "output_type": "execute_result"
    }
   ],
   "source": [
    "import sqlmlutils\n",
    "import pytest\n",
    "\n",
    "def train_model_sproc():\n",
    "    import numpy\n",
    "    import pickle\n",
    "    from sklearn.linear_model import LogisticRegression\n",
    "    from revoscalepy import RxLocalSeq, RxInSqlServer, rx_get_compute_context, rx_set_compute_context\n",
    "    from revoscalepy import rx_exec, rx_data_step\n",
    "    from microsoftml import rx_logistic_regression, rx_fast_trees\n",
    "    import pandas as pd\n",
    "\n",
    "    cols = InputDataSet.columns.drop([\"quality\", \"color\"])\n",
    "    ds = InputDataSet.drop(\"color\",axis=1).apply(pd.to_numeric)\n",
    "    mod = rx_fast_trees(\"quality ~\" + \"+\".join(cols), data=ds, method=\"regression\")\n",
    "    \n",
    "    # This is the same code (above), just put into function-form with the needed packages\n",
    "    # Below, we've added a dump of the model so we can refer to it later in SQL Server\n",
    "    trained_model = pickle.dumps(mod)\n",
    "    \n",
    "\n",
    "connection = sqlmlutils.ConnectionInfo(server=\"rhelvm\", database=\"WineQuality\",uid=\"sa\",pwd=\"O365microsoft!\")\n",
    "sqlpy = sqlmlutils.SQLPythonExecutor(connection)\n",
    "sp_name = \"TrainModel\"\n",
    "\n",
    "sqlpy.drop_sproc(sp_name)\n",
    "sqlpy.create_sproc_from_function(sp_name, train_model_sproc)\n"
   ]
  },
  {
   "cell_type": "code",
   "execution_count": null,
   "metadata": {
    "collapsed": true
   },
   "outputs": [],
   "source": []
  }
 ],
 "metadata": {
  "kernelspec": {
   "display_name": "Python [default]",
   "language": "python",
   "name": "python3"
  },
  "language_info": {
   "codemirror_mode": {
    "name": "ipython",
    "version": 3
   },
   "file_extension": ".py",
   "mimetype": "text/x-python",
   "name": "python",
   "nbconvert_exporter": "python",
   "pygments_lexer": "ipython3",
   "version": "3.5.2"
  }
 },
 "nbformat": 4,
 "nbformat_minor": 1
}
